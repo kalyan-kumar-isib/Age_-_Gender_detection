{
 "cells": [
  {
   "cell_type": "markdown",
   "metadata": {},
   "source": [
    "# Problem Statement"
   ]
  },
  {
   "cell_type": "markdown",
   "metadata": {},
   "source": [
    "The main aim of this project is to detect age and gender through the given data set. We will be using simple python and Keras methods for detecting age and gender. "
   ]
  },
  {
   "cell_type": "markdown",
   "metadata": {},
   "source": [
    "# Work Flow"
   ]
  },
  {
   "cell_type": "markdown",
   "metadata": {},
   "source": [
    "1. Data Collection -> Loading the dataset. Dataset comprises age, gender, images, and pixels.\n",
    "2. Data Processing -> convert all the columns into an array by using the numpy array\n",
    "3. Data Splitting -> Creating training data and test data\n",
    "4. Defining the architecture of the model -> building a neural network using Keras\n",
    "5. Training the model\n",
    "6. Evaluating model performance -> on both training and test set\n",
    "7. Making a predective System -> To test whether our model predicts exactly or not"
   ]
  },
  {
   "cell_type": "code",
   "execution_count": 1,
   "metadata": {
    "id": "Xp1oDArG_134"
   },
   "outputs": [],
   "source": [
    "# Importing the required libraries\n",
    "\n",
    "import pandas as pd\n",
    "import numpy as np\n",
    "import matplotlib.pyplot as plt\n",
    "import seaborn as sb"
   ]
  },
  {
   "cell_type": "markdown",
   "metadata": {},
   "source": [
    "# Data Collection"
   ]
  },
  {
   "cell_type": "code",
   "execution_count": 2,
   "metadata": {
    "colab": {
     "base_uri": "https://localhost:8080/",
     "height": 203
    },
    "id": "8Kaw2Eb3EJGj",
    "outputId": "bd687f4e-2660-4acf-ffbc-d12c6cacef01"
   },
   "outputs": [
    {
     "data": {
      "text/html": [
       "<div>\n",
       "<style scoped>\n",
       "    .dataframe tbody tr th:only-of-type {\n",
       "        vertical-align: middle;\n",
       "    }\n",
       "\n",
       "    .dataframe tbody tr th {\n",
       "        vertical-align: top;\n",
       "    }\n",
       "\n",
       "    .dataframe thead th {\n",
       "        text-align: right;\n",
       "    }\n",
       "</style>\n",
       "<table border=\"1\" class=\"dataframe\">\n",
       "  <thead>\n",
       "    <tr style=\"text-align: right;\">\n",
       "      <th></th>\n",
       "      <th>age</th>\n",
       "      <th>ethnicity</th>\n",
       "      <th>gender</th>\n",
       "      <th>img_name</th>\n",
       "      <th>pixels</th>\n",
       "    </tr>\n",
       "  </thead>\n",
       "  <tbody>\n",
       "    <tr>\n",
       "      <th>0</th>\n",
       "      <td>1</td>\n",
       "      <td>2</td>\n",
       "      <td>0</td>\n",
       "      <td>20161219203650636.jpg.chip.jpg</td>\n",
       "      <td>129 128 128 126 127 130 133 135 139 142 145 14...</td>\n",
       "    </tr>\n",
       "    <tr>\n",
       "      <th>1</th>\n",
       "      <td>1</td>\n",
       "      <td>2</td>\n",
       "      <td>0</td>\n",
       "      <td>20161219222752047.jpg.chip.jpg</td>\n",
       "      <td>164 74 111 168 169 171 175 182 184 188 193 199...</td>\n",
       "    </tr>\n",
       "    <tr>\n",
       "      <th>2</th>\n",
       "      <td>1</td>\n",
       "      <td>2</td>\n",
       "      <td>0</td>\n",
       "      <td>20161219222832191.jpg.chip.jpg</td>\n",
       "      <td>67 70 71 70 69 67 70 79 90 103 116 132 145 155...</td>\n",
       "    </tr>\n",
       "    <tr>\n",
       "      <th>3</th>\n",
       "      <td>1</td>\n",
       "      <td>2</td>\n",
       "      <td>0</td>\n",
       "      <td>20161220144911423.jpg.chip.jpg</td>\n",
       "      <td>193 197 198 200 199 200 202 203 204 205 208 21...</td>\n",
       "    </tr>\n",
       "    <tr>\n",
       "      <th>4</th>\n",
       "      <td>1</td>\n",
       "      <td>2</td>\n",
       "      <td>0</td>\n",
       "      <td>20161220144914327.jpg.chip.jpg</td>\n",
       "      <td>202 205 209 210 209 209 210 211 212 214 218 21...</td>\n",
       "    </tr>\n",
       "  </tbody>\n",
       "</table>\n",
       "</div>"
      ],
      "text/plain": [
       "   age  ...                                             pixels\n",
       "0    1  ...  129 128 128 126 127 130 133 135 139 142 145 14...\n",
       "1    1  ...  164 74 111 168 169 171 175 182 184 188 193 199...\n",
       "2    1  ...  67 70 71 70 69 67 70 79 90 103 116 132 145 155...\n",
       "3    1  ...  193 197 198 200 199 200 202 203 204 205 208 21...\n",
       "4    1  ...  202 205 209 210 209 209 210 211 212 214 218 21...\n",
       "\n",
       "[5 rows x 5 columns]"
      ]
     },
     "execution_count": 2,
     "metadata": {
      "tags": []
     },
     "output_type": "execute_result"
    }
   ],
   "source": [
    "# loading the dataset\n",
    "data = pd.read_csv('/content/drive/MyDrive/age_gender.csv')\n",
    "data.head()"
   ]
  },
  {
   "cell_type": "code",
   "execution_count": 3,
   "metadata": {
    "id": "6zriUBClFBMc"
   },
   "outputs": [],
   "source": [
    "# converting to dataframe\n",
    "data_df = pd.DataFrame(data)"
   ]
  },
  {
   "cell_type": "markdown",
   "metadata": {},
   "source": [
    "# Data Processing"
   ]
  },
  {
   "cell_type": "markdown",
   "metadata": {},
   "source": [
    "**Converting all the columns into an array by using the np.array and into dtype float**"
   ]
  },
  {
   "cell_type": "markdown",
   "metadata": {},
   "source": [
    "We will convert the column-named pixels into an array by using the NumPy library and Reshaping them into dimensions (48, 48) by using the lambda function. We also converted the values in the float by the same lambda function."
   ]
  },
  {
   "cell_type": "code",
   "execution_count": 4,
   "metadata": {
    "colab": {
     "base_uri": "https://localhost:8080/",
     "height": 203
    },
    "id": "c2C0jd7IGT2e",
    "outputId": "fed772bc-3344-499a-f602-cf2cc20eaf5f"
   },
   "outputs": [
    {
     "data": {
      "text/html": [
       "<div>\n",
       "<style scoped>\n",
       "    .dataframe tbody tr th:only-of-type {\n",
       "        vertical-align: middle;\n",
       "    }\n",
       "\n",
       "    .dataframe tbody tr th {\n",
       "        vertical-align: top;\n",
       "    }\n",
       "\n",
       "    .dataframe thead th {\n",
       "        text-align: right;\n",
       "    }\n",
       "</style>\n",
       "<table border=\"1\" class=\"dataframe\">\n",
       "  <thead>\n",
       "    <tr style=\"text-align: right;\">\n",
       "      <th></th>\n",
       "      <th>age</th>\n",
       "      <th>ethnicity</th>\n",
       "      <th>gender</th>\n",
       "      <th>img_name</th>\n",
       "      <th>pixels</th>\n",
       "    </tr>\n",
       "  </thead>\n",
       "  <tbody>\n",
       "    <tr>\n",
       "      <th>0</th>\n",
       "      <td>1</td>\n",
       "      <td>2</td>\n",
       "      <td>0</td>\n",
       "      <td>20161219203650636.jpg.chip.jpg</td>\n",
       "      <td>[[129.0, 128.0, 128.0, 126.0, 127.0, 130.0, 13...</td>\n",
       "    </tr>\n",
       "    <tr>\n",
       "      <th>1</th>\n",
       "      <td>1</td>\n",
       "      <td>2</td>\n",
       "      <td>0</td>\n",
       "      <td>20161219222752047.jpg.chip.jpg</td>\n",
       "      <td>[[164.0, 74.0, 111.0, 168.0, 169.0, 171.0, 175...</td>\n",
       "    </tr>\n",
       "    <tr>\n",
       "      <th>2</th>\n",
       "      <td>1</td>\n",
       "      <td>2</td>\n",
       "      <td>0</td>\n",
       "      <td>20161219222832191.jpg.chip.jpg</td>\n",
       "      <td>[[67.0, 70.0, 71.0, 70.0, 69.0, 67.0, 70.0, 79...</td>\n",
       "    </tr>\n",
       "    <tr>\n",
       "      <th>3</th>\n",
       "      <td>1</td>\n",
       "      <td>2</td>\n",
       "      <td>0</td>\n",
       "      <td>20161220144911423.jpg.chip.jpg</td>\n",
       "      <td>[[193.0, 197.0, 198.0, 200.0, 199.0, 200.0, 20...</td>\n",
       "    </tr>\n",
       "    <tr>\n",
       "      <th>4</th>\n",
       "      <td>1</td>\n",
       "      <td>2</td>\n",
       "      <td>0</td>\n",
       "      <td>20161220144914327.jpg.chip.jpg</td>\n",
       "      <td>[[202.0, 205.0, 209.0, 210.0, 209.0, 209.0, 21...</td>\n",
       "    </tr>\n",
       "  </tbody>\n",
       "</table>\n",
       "</div>"
      ],
      "text/plain": [
       "   age  ...                                             pixels\n",
       "0    1  ...  [[129.0, 128.0, 128.0, 126.0, 127.0, 130.0, 13...\n",
       "1    1  ...  [[164.0, 74.0, 111.0, 168.0, 169.0, 171.0, 175...\n",
       "2    1  ...  [[67.0, 70.0, 71.0, 70.0, 69.0, 67.0, 70.0, 79...\n",
       "3    1  ...  [[193.0, 197.0, 198.0, 200.0, 199.0, 200.0, 20...\n",
       "4    1  ...  [[202.0, 205.0, 209.0, 210.0, 209.0, 209.0, 21...\n",
       "\n",
       "[5 rows x 5 columns]"
      ]
     },
     "execution_count": 4,
     "metadata": {
      "tags": []
     },
     "output_type": "execute_result"
    }
   ],
   "source": [
    "# Converting pixels into numpy array\n",
    "data_df['pixels'] = data_df['pixels'].apply(lambda x:  np.reshape(np.array(x.split(), dtype=\"float32\"), (48,48)))\n",
    "data_df.head()"
   ]
  },
  {
   "cell_type": "markdown",
   "metadata": {},
   "source": [
    "We divided the values further by 255."
   ]
  },
  {
   "cell_type": "code",
   "execution_count": 5,
   "metadata": {
    "colab": {
     "base_uri": "https://localhost:8080/",
     "height": 265
    },
    "id": "0KdSjNrLIS5Z",
    "outputId": "5117468f-46b8-4c60-fa5a-ecee5fe99c8e"
   },
   "outputs": [
    {
     "data": {
      "text/plain": [
       "(-0.5, 47.5, 47.5, -0.5)"
      ]
     },
     "execution_count": 5,
     "metadata": {
      "tags": []
     },
     "output_type": "execute_result"
    },
    {
     "data": {
      "image/png": "[encoded data removed]",
      "text/plain": [
       "<Figure size 432x288 with 1 Axes>"
      ]
     },
     "metadata": {
      "needs_background": "light",
      "tags": []
     },
     "output_type": "display_data"
    }
   ],
   "source": [
    "# visualizing the sample image\n",
    "data_df['pixels']= data_df['pixels']/255\n",
    "im = data_df['pixels'][0]\n",
    "#im\n",
    "plt.imshow(im, cmap='gray')\n",
    "plt.axis('off')"
   ]
  },
  {
   "cell_type": "code",
   "execution_count": 6,
   "metadata": {
    "colab": {
     "base_uri": "https://localhost:8080/",
     "height": 441
    },
    "id": "nlF_eqmJFrES",
    "outputId": "8534f534-01fd-4f78-c455-8bf0449987cb"
   },
   "outputs": [
    {
     "data": {
      "image/png": "[encoded data removed]",
      "text/plain": [
       "<Figure size 720x504 with 1 Axes>"
      ]
     },
     "metadata": {
      "needs_background": "light",
      "tags": []
     },
     "output_type": "display_data"
    }
   ],
   "source": [
    "# Visualizing Gender \n",
    "\n",
    "plt.xlabel = 'Gender (1= Female, 0-Male)'\n",
    "plt.figure(figsize=(10,7))\n",
    "ax=data_df.gender.value_counts().plot.bar(x='Gender (1= Female, 0-Male)', y='Count', title='Gender', legend = (1,0, ('Female', 'Male')))"
   ]
  },
  {
   "cell_type": "code",
   "execution_count": 7,
   "metadata": {
    "colab": {
     "base_uri": "https://localhost:8080/",
     "height": 494
    },
    "id": "Q6rFwdA9HHWg",
    "outputId": "0fd4f2aa-efed-450f-f77c-67c841ad4d5d"
   },
   "outputs": [
    {
     "data": {
      "text/plain": [
       "Text(0.5, 1.0, 'Ethinicity')"
      ]
     },
     "execution_count": 7,
     "metadata": {
      "tags": []
     },
     "output_type": "execute_result"
    },
    {
     "data": {
      "image/png": "[encoded data removed]",
      "text/plain": [
       "<Figure size 720x504 with 1 Axes>"
      ]
     },
     "metadata": {
      "needs_background": "light",
      "tags": []
     },
     "output_type": "display_data"
    }
   ],
   "source": [
    "# Visualizing Ethinicity \n",
    "\n",
    "plt.figure(figsize=(10,7))\n",
    "labels =['White','Black','Indian','Asian','Hispanic']\n",
    "ax=data_df.ethnicity.value_counts().plot.bar()\n",
    "ax.set_xticklabels(labels)\n",
    "ax.set_title('Ethinicity')"
   ]
  },
  {
   "cell_type": "markdown",
   "metadata": {},
   "source": [
    "To convert all the values into float and reshape it, we used function for and NumPy. To have the age and gender stored in the list, we will use the other variable labels_f. A later model will be used to fit the data and validate it."
   ]
  },
  {
   "cell_type": "code",
   "execution_count": 8,
   "metadata": {
    "id": "qWQq-8PvLgt1"
   },
   "outputs": [],
   "source": [
    "x = np.zeros(shape=(23705,48,48))\n",
    "for i in range(len(data_df[\"pixels\"])):\n",
    "    x[i] = data_df[\"pixels\"][i]"
   ]
  },
  {
   "cell_type": "code",
   "execution_count": 9,
   "metadata": {
    "colab": {
     "base_uri": "https://localhost:8080/"
    },
    "id": "nWCSJXX9Lg6F",
    "outputId": "cd263e50-44b6-4682-f141-be1d3010ac56"
   },
   "outputs": [
    {
     "data": {
      "text/plain": [
       "(23705,)"
      ]
     },
     "execution_count": 9,
     "metadata": {
      "tags": []
     },
     "output_type": "execute_result"
    }
   ],
   "source": [
    "# Converting age into numpy array\n",
    "\n",
    "age = data_df['age']\n",
    "age = age.astype(float)\n",
    "age = np.array(age)\n",
    "age.shape"
   ]
  },
  {
   "cell_type": "code",
   "execution_count": 10,
   "metadata": {
    "colab": {
     "base_uri": "https://localhost:8080/"
    },
    "id": "_uW4WmF2Lg2t",
    "outputId": "afb7bad4-b41a-4309-a754-62e77689d6a5"
   },
   "outputs": [
    {
     "data": {
      "text/plain": [
       "(23705,)"
      ]
     },
     "execution_count": 10,
     "metadata": {
      "tags": []
     },
     "output_type": "execute_result"
    }
   ],
   "source": [
    "# Converting gender into numpy array\n",
    "\n",
    "gen = data_df['gender']\n",
    "gen = np.array(gen)\n",
    "gen.shape"
   ]
  },
  {
   "cell_type": "code",
   "execution_count": 11,
   "metadata": {
    "colab": {
     "base_uri": "https://localhost:8080/"
    },
    "id": "qqhH-rarLg_P",
    "outputId": "3dbc52ac-22da-46c7-ca86-5105ec582544"
   },
   "outputs": [
    {
     "data": {
      "text/plain": [
       "(23705, 2, 1)"
      ]
     },
     "execution_count": 11,
     "metadata": {
      "tags": []
     },
     "output_type": "execute_result"
    }
   ],
   "source": [
    "# Both age and gender are combined and stored in labels_f, we will further convert the list into array.\n",
    "\n",
    "labels_f =[]\n",
    "i=0\n",
    "\n",
    "while i <len(age):\n",
    "    label=[]\n",
    "    label.append([age[i]])\n",
    "    label.append([gen[i]])\n",
    "    labels_f.append(label)\n",
    "    i+=1\n",
    "\n",
    "labels_f =np.array(labels_f)\n",
    "labels_f.shape"
   ]
  },
  {
   "cell_type": "markdown",
   "metadata": {},
   "source": [
    "# Data Splitting"
   ]
  },
  {
   "cell_type": "code",
   "execution_count": 12,
   "metadata": {
    "id": "i32SDPacM3gm"
   },
   "outputs": [],
   "source": [
    "#Splitting the data taking data set\n",
    "\n",
    "import tensorflow as tf\n",
    "from sklearn.model_selection import train_test_split\n",
    "\n",
    "x_train, x_test, y_train, y_test= train_test_split(x, labels_f, test_size=0.25)"
   ]
  },
  {
   "cell_type": "code",
   "execution_count": 13,
   "metadata": {
    "colab": {
     "base_uri": "https://localhost:8080/"
    },
    "id": "9Gj2AIobM3ja",
    "outputId": "3bb15c24-e614-4b7c-ed88-db17e7d2ce43"
   },
   "outputs": [
    {
     "name": "stdout",
     "output_type": "stream",
     "text": [
      "(17778, 48, 48)\n",
      "(5927, 48, 48)\n",
      "(17778, 2, 1)\n",
      "(5927, 2, 1)\n"
     ]
    }
   ],
   "source": [
    "# Shape output of x_train, x_test, y_train, and y_test\n",
    "\n",
    "print(x_train.shape)\n",
    "print(x_test.shape)\n",
    "\n",
    "print(y_train.shape)\n",
    "print(y_test.shape)"
   ]
  },
  {
   "cell_type": "code",
   "execution_count": 14,
   "metadata": {
    "id": "FPK7g8PFM3mR"
   },
   "outputs": [],
   "source": [
    "y_train_2 = [y_train[:,1], y_train[:,0]]\n",
    "y_test_2 = [y_test[:,1], y_test[:,0]]"
   ]
  },
  {
   "cell_type": "markdown",
   "metadata": {},
   "source": [
    "# Defining the architecture of the model"
   ]
  },
  {
   "cell_type": "code",
   "execution_count": 15,
   "metadata": {
    "id": "d7EI5pv3NQCY"
   },
   "outputs": [],
   "source": [
    "from tensorflow.keras.layers import Dropout\n",
    "from tensorflow.keras.layers import Flatten,BatchNormalization\n",
    "from tensorflow.keras.layers import Dense, MaxPooling2D,Conv2D\n",
    "from tensorflow.keras.layers import Input,Activation,Add\n",
    "from tensorflow.keras.models import Model\n",
    "from tensorflow.keras.regularizers import l2\n",
    "from tensorflow.keras.optimizers import Adam\n",
    "\n",
    "def Convolution(input_tensor,filters):\n",
    "\n",
    "    inp = Conv2D(filters=filters, kernel_size=(3, 3), padding = 'same', strides=(1, 1), kernel_regularizer=l2(0.001))(input_tensor)\n",
    "    inp = Dropout(0.1)(inp)\n",
    "    inp = Activation('relu')(inp)\n",
    "    return inp\n",
    "\n",
    "def model(input_shape):\n",
    "\n",
    "    inputs = Input((input_shape))\n",
    "\n",
    "    conv_1= Convolution(inputs,32)\n",
    "    maxp_1 = MaxPooling2D(pool_size = (2,2)) (conv_1)\n",
    "\n",
    "    conv_2 = Convolution(maxp_1,64)\n",
    "    maxp_2 = MaxPooling2D(pool_size = (2, 2)) (conv_2)\n",
    "\n",
    "    conv_3 = Convolution(maxp_2,128)\n",
    "    maxp_3 = MaxPooling2D(pool_size = (2, 2)) (conv_3)\n",
    "\n",
    "    conv_4 = Convolution(maxp_3,256)\n",
    "    maxp_4 = MaxPooling2D(pool_size = (2, 2)) (conv_4)\n",
    "\n",
    "    flatten = Flatten()(maxp_4)\n",
    "\n",
    "    dense_1 = Dense(64,activation='relu')(flatten)\n",
    "    dense_2 = Dense(64,activation='relu')(flatten)\n",
    "    drop_1 = Dropout(0.2)(dense_1)\n",
    "    drop_2 = Dropout(0.2)(dense_2)\n",
    "\n",
    "    output_1 = Dense(1,activation=\"sigmoid\",name='sex_out')(drop_1)\n",
    "    output_2 = Dense(1,activation=\"relu\",name='age_out')(drop_2)\n",
    "\n",
    "    model = Model(inputs=[inputs], outputs=[output_1,output_2])\n",
    "    model.compile(loss=[\"binary_crossentropy\",\"mae\"], optimizer=\"Adam\", metrics=[\"accuracy\"])\n",
    "\n",
    "    return model"
   ]
  },
  {
   "cell_type": "code",
   "execution_count": 16,
   "metadata": {
    "colab": {
     "base_uri": "https://localhost:8080/"
    },
    "id": "cYCswrRaNQFz",
    "outputId": "b8d574e0-9f6a-4a34-ff72-1f6a79547cdd"
   },
   "outputs": [
    {
     "name": "stdout",
     "output_type": "stream",
     "text": [
      "Model: \"model\"\n",
      "__________________________________________________________________________________________________\n",
      "Layer (type)                    Output Shape         Param #     Connected to                     \n",
      "==================================================================================================\n",
      "input_1 (InputLayer)            [(None, 48, 48, 1)]  0                                            \n",
      "__________________________________________________________________________________________________\n",
      "conv2d (Conv2D)                 (None, 48, 48, 32)   320         input_1[0][0]                    \n",
      "__________________________________________________________________________________________________\n",
      "dropout (Dropout)               (None, 48, 48, 32)   0           conv2d[0][0]                     \n",
      "__________________________________________________________________________________________________\n",
      "activation (Activation)         (None, 48, 48, 32)   0           dropout[0][0]                    \n",
      "__________________________________________________________________________________________________\n",
      "max_pooling2d (MaxPooling2D)    (None, 24, 24, 32)   0           activation[0][0]                 \n",
      "__________________________________________________________________________________________________\n",
      "conv2d_1 (Conv2D)               (None, 24, 24, 64)   18496       max_pooling2d[0][0]              \n",
      "__________________________________________________________________________________________________\n",
      "dropout_1 (Dropout)             (None, 24, 24, 64)   0           conv2d_1[0][0]                   \n",
      "__________________________________________________________________________________________________\n",
      "activation_1 (Activation)       (None, 24, 24, 64)   0           dropout_1[0][0]                  \n",
      "__________________________________________________________________________________________________\n",
      "max_pooling2d_1 (MaxPooling2D)  (None, 12, 12, 64)   0           activation_1[0][0]               \n",
      "__________________________________________________________________________________________________\n",
      "conv2d_2 (Conv2D)               (None, 12, 12, 128)  73856       max_pooling2d_1[0][0]            \n",
      "__________________________________________________________________________________________________\n",
      "dropout_2 (Dropout)             (None, 12, 12, 128)  0           conv2d_2[0][0]                   \n",
      "__________________________________________________________________________________________________\n",
      "activation_2 (Activation)       (None, 12, 12, 128)  0           dropout_2[0][0]                  \n",
      "__________________________________________________________________________________________________\n",
      "max_pooling2d_2 (MaxPooling2D)  (None, 6, 6, 128)    0           activation_2[0][0]               \n",
      "__________________________________________________________________________________________________\n",
      "conv2d_3 (Conv2D)               (None, 6, 6, 256)    295168      max_pooling2d_2[0][0]            \n",
      "__________________________________________________________________________________________________\n",
      "dropout_3 (Dropout)             (None, 6, 6, 256)    0           conv2d_3[0][0]                   \n",
      "__________________________________________________________________________________________________\n",
      "activation_3 (Activation)       (None, 6, 6, 256)    0           dropout_3[0][0]                  \n",
      "__________________________________________________________________________________________________\n",
      "max_pooling2d_3 (MaxPooling2D)  (None, 3, 3, 256)    0           activation_3[0][0]               \n",
      "__________________________________________________________________________________________________\n",
      "flatten (Flatten)               (None, 2304)         0           max_pooling2d_3[0][0]            \n",
      "__________________________________________________________________________________________________\n",
      "dense (Dense)                   (None, 64)           147520      flatten[0][0]                    \n",
      "__________________________________________________________________________________________________\n",
      "dense_1 (Dense)                 (None, 64)           147520      flatten[0][0]                    \n",
      "__________________________________________________________________________________________________\n",
      "dropout_4 (Dropout)             (None, 64)           0           dense[0][0]                      \n",
      "__________________________________________________________________________________________________\n",
      "dropout_5 (Dropout)             (None, 64)           0           dense_1[0][0]                    \n",
      "__________________________________________________________________________________________________\n",
      "sex_out (Dense)                 (None, 1)            65          dropout_4[0][0]                  \n",
      "__________________________________________________________________________________________________\n",
      "age_out (Dense)                 (None, 1)            65          dropout_5[0][0]                  \n",
      "==================================================================================================\n",
      "Total params: 683,010\n",
      "Trainable params: 683,010\n",
      "Non-trainable params: 0\n",
      "__________________________________________________________________________________________________\n"
     ]
    }
   ],
   "source": [
    "# summary of the model\n",
    "Model = model((48,48,1))\n",
    "Model.summary()"
   ]
  },
  {
   "cell_type": "markdown",
   "metadata": {},
   "source": [
    "# Training the model"
   ]
  },
  {
   "cell_type": "code",
   "execution_count": 17,
   "metadata": {
    "colab": {
     "base_uri": "https://localhost:8080/"
    },
    "id": "75VGDqHeOIKK",
    "outputId": "d1a6d7cf-2df5-447f-b5ea-3a908574ae80"
   },
   "outputs": [
    {
     "name": "stdout",
     "output_type": "stream",
     "text": [
      "Epoch 1/5\n",
      "278/278 [==============================] - 8s 16ms/step - loss: 16.7986 - sex_out_loss: 0.6956 - age_out_loss: 15.9210 - sex_out_accuracy: 0.5274 - age_out_accuracy: 0.0478 - val_loss: 15.4177 - val_sex_out_loss: 0.6816 - val_age_out_loss: 14.5660 - val_sex_out_accuracy: 0.6065 - val_age_out_accuracy: 0.0457\n",
      "Epoch 2/5\n",
      "278/278 [==============================] - 4s 13ms/step - loss: 13.5468 - sex_out_loss: 0.6302 - age_out_loss: 12.7146 - sex_out_accuracy: 0.6470 - age_out_accuracy: 0.0466 - val_loss: 12.5927 - val_sex_out_loss: 0.5688 - val_age_out_loss: 11.7914 - val_sex_out_accuracy: 0.7280 - val_age_out_accuracy: 0.0435\n",
      "Epoch 3/5\n",
      "278/278 [==============================] - 4s 13ms/step - loss: 11.4214 - sex_out_loss: 0.5625 - age_out_loss: 10.6052 - sex_out_accuracy: 0.7134 - age_out_accuracy: 0.0440 - val_loss: 14.5970 - val_sex_out_loss: 0.5371 - val_age_out_loss: 13.7897 - val_sex_out_accuracy: 0.7608 - val_age_out_accuracy: 0.0373\n",
      "Epoch 4/5\n",
      "278/278 [==============================] - 4s 13ms/step - loss: 10.6548 - sex_out_loss: 0.5183 - age_out_loss: 9.8518 - sex_out_accuracy: 0.7482 - age_out_accuracy: 0.0448 - val_loss: 11.8477 - val_sex_out_loss: 0.4793 - val_age_out_loss: 11.0714 - val_sex_out_accuracy: 0.7893 - val_age_out_accuracy: 0.0447\n",
      "Epoch 5/5\n",
      "278/278 [==============================] - 4s 13ms/step - loss: 10.0817 - sex_out_loss: 0.4765 - age_out_loss: 9.2973 - sex_out_accuracy: 0.7778 - age_out_accuracy: 0.0460 - val_loss: 10.3944 - val_sex_out_loss: 0.4505 - val_age_out_loss: 9.6237 - val_sex_out_accuracy: 0.7997 - val_age_out_accuracy: 0.0457\n"
     ]
    }
   ],
   "source": [
    "# storing the trained model in History variable which will be used to visualize the training process\n",
    "History = Model.fit(x_train, y_train_2, batch_size=64, validation_data=(x_test,y_test_2), epochs=5)"
   ]
  },
  {
   "cell_type": "markdown",
   "metadata": {},
   "source": [
    "# Evaluating model performance"
   ]
  },
  {
   "cell_type": "code",
   "execution_count": 18,
   "metadata": {
    "colab": {
     "base_uri": "https://localhost:8080/"
    },
    "id": "kGBNh_SeOIc8",
    "outputId": "9c86bad6-27d6-4609-da06-4f62427bed68"
   },
   "outputs": [
    {
     "name": "stdout",
     "output_type": "stream",
     "text": [
      "186/186 [==============================] - 1s 4ms/step - loss: 10.3944 - sex_out_loss: 0.4505 - age_out_loss: 9.6237 - sex_out_accuracy: 0.7997 - age_out_accuracy: 0.0457\n"
     ]
    },
    {
     "data": {
      "text/plain": [
       "[10.39439582824707,\n",
       " 0.45051294565200806,\n",
       " 9.623739242553711,\n",
       " 0.7997300624847412,\n",
       " 0.04572296142578125]"
      ]
     },
     "execution_count": 18,
     "metadata": {
      "tags": []
     },
     "output_type": "execute_result"
    }
   ],
   "source": [
    "Model.evaluate(x_test,y_test_2)"
   ]
  },
  {
   "cell_type": "code",
   "execution_count": 19,
   "metadata": {
    "colab": {
     "base_uri": "https://localhost:8080/"
    },
    "id": "2J9s86o0OIgC",
    "outputId": "d32007ea-b80b-496c-cac3-ed43fd386b8e"
   },
   "outputs": [
    {
     "data": {
      "text/plain": [
       "array([[43.535934],\n",
       "       [28.291037],\n",
       "       [48.95317 ],\n",
       "       ...,\n",
       "       [23.348951],\n",
       "       [21.34199 ],\n",
       "       [32.95664 ]], dtype=float32)"
      ]
     },
     "execution_count": 19,
     "metadata": {
      "tags": []
     },
     "output_type": "execute_result"
    }
   ],
   "source": [
    "# getting predictions for the test set\n",
    "pred = Model.predict(x_test)\n",
    "pred[1]"
   ]
  },
  {
   "cell_type": "markdown",
   "metadata": {},
   "source": [
    "# Making a predective System"
   ]
  },
  {
   "cell_type": "code",
   "execution_count": 20,
   "metadata": {
    "id": "8X_JWHWiOIip"
   },
   "outputs": [],
   "source": [
    "def test_image(ind, x, Model):\n",
    "\n",
    "    plt.imshow(x[ind])\n",
    "    image_test = x[ind]\n",
    "\n",
    "    pred_1 = Model.predict(np.array([image_test]))\n",
    "\n",
    "    sex_f = ['Female','Male']\n",
    "    Age = int(np.round(pred_1[1][0]))\n",
    "    Sex = int(np.round(pred_1[0][0]))\n",
    "\n",
    "    print(\"Predicted Age: \"+ str(Age))\n",
    "    print(\"Predicted Sex: \"+ sex_f[Sex])"
   ]
  },
  {
   "cell_type": "code",
   "execution_count": 21,
   "metadata": {
    "colab": {
     "base_uri": "https://localhost:8080/",
     "height": 301
    },
    "id": "1Wl-osRJ2DeF",
    "outputId": "786d5324-2dca-4c78-ccec-375cc29803c8"
   },
   "outputs": [
    {
     "name": "stdout",
     "output_type": "stream",
     "text": [
      "Predicted Age: 22\n",
      "Predicted Sex: Male\n"
     ]
    },
    {
     "data": {
      "image/png": "[encoded data removed]",
      "text/plain": [
       "<Figure size 432x288 with 1 Axes>"
      ]
     },
     "metadata": {
      "needs_background": "light",
      "tags": []
     },
     "output_type": "display_data"
    }
   ],
   "source": [
    "test_image(1980, x, Model)"
   ]
  },
  {
   "cell_type": "code",
   "execution_count": 22,
   "metadata": {
    "colab": {
     "base_uri": "https://localhost:8080/",
     "height": 301
    },
    "id": "Ik7xZIPXO_BZ",
    "outputId": "c55e6f14-bc75-4321-9b28-cdbb5e8282fb"
   },
   "outputs": [
    {
     "name": "stdout",
     "output_type": "stream",
     "text": [
      "Predicted Age: 25\n",
      "Predicted Sex: Female\n"
     ]
    },
    {
     "data": {
      "image/png": "[encoded data removed]",
      "text/plain": [
       "<Figure size 432x288 with 1 Axes>"
      ]
     },
     "metadata": {
      "needs_background": "light",
      "tags": []
     },
     "output_type": "display_data"
    }
   ],
   "source": [
    "test_image(3398, x, Model)"
   ]
  },
  {
   "cell_type": "code",
   "execution_count": 23,
   "metadata": {
    "colab": {
     "base_uri": "https://localhost:8080/",
     "height": 301
    },
    "id": "CRqEucjZH8EG",
    "outputId": "7a17c1b4-e692-4ab7-b407-ed6ccb9188f9"
   },
   "outputs": [
    {
     "name": "stdout",
     "output_type": "stream",
     "text": [
      "Predicted Age: 32\n",
      "Predicted Sex: Male\n"
     ]
    },
    {
     "data": {
      "image/png": "[encoded data removed]",
      "text/plain": [
       "<Figure size 432x288 with 1 Axes>"
      ]
     },
     "metadata": {
      "needs_background": "light",
      "tags": []
     },
     "output_type": "display_data"
    }
   ],
   "source": [
    "test_image(12589, x, Model)"
   ]
  },
  {
   "cell_type": "code",
   "execution_count": 24,
   "metadata": {
    "colab": {
     "base_uri": "https://localhost:8080/",
     "height": 301
    },
    "id": "KQt-iyKmLRxh",
    "outputId": "051f3c5c-1047-498b-86f2-9267a1949db6"
   },
   "outputs": [
    {
     "name": "stdout",
     "output_type": "stream",
     "text": [
      "Predicted Age: 14\n",
      "Predicted Sex: Male\n"
     ]
    },
    {
     "data": {
      "image/png": "[encoded data removed]",
      "text/plain": [
       "<Figure size 432x288 with 1 Axes>"
      ]
     },
     "metadata": {
      "needs_background": "light",
      "tags": []
     },
     "output_type": "display_data"
    }
   ],
   "source": [
    "test_image(23456, x, Model)"
   ]
  },
  {
   "cell_type": "code",
   "execution_count": 26,
   "metadata": {
    "colab": {
     "base_uri": "https://localhost:8080/",
     "height": 301
    },
    "id": "Oa_Dfr1rH7-G",
    "outputId": "163e31ff-d703-4458-f41f-c1992e1c4af0"
   },
   "outputs": [
    {
     "name": "stdout",
     "output_type": "stream",
     "text": [
      "Predicted Age: 21\n",
      "Predicted Sex: Male\n"
     ]
    },
    {
     "data": {
      "image/png": "[encoded data removed]",
      "text/plain": [
       "<Figure size 432x288 with 1 Axes>"
      ]
     },
     "metadata": {
      "needs_background": "light",
      "tags": []
     },
     "output_type": "display_data"
    }
   ],
   "source": [
    "test_image(1851, x, Model)"
   ]
  },
  {
   "cell_type": "markdown",
   "metadata": {},
   "source": [
    "# Conclusion"
   ]
  },
  {
   "cell_type": "markdown",
   "metadata": {},
   "source": [
    "Python obtained images and the Model did not do well much in the accuracy rate, further, improvement is required in the model algorithm."
   ]
  },
  {
   "cell_type": "markdown",
   "metadata": {},
   "source": [
    "The task of recognizing age and gender, is an innately troublesome issue. The fundamental justification for this trouble hole lies in the information needed to prepare these kinds of frameworks."
   ]
  },
  {
   "cell_type": "code",
   "execution_count": null,
   "metadata": {},
   "outputs": [],
   "source": []
  }
 ],
 "metadata": {
  "accelerator": "GPU",
  "colab": {
   "name": "Age_&_Gender_detection.ipynb",
   "provenance": []
  },
  "kernelspec": {
   "display_name": "Python 3",
   "language": "python",
   "name": "python3"
  },
  "language_info": {
   "codemirror_mode": {
    "name": "ipython",
    "version": 3
   },
   "file_extension": ".py",
   "mimetype": "text/x-python",
   "name": "python",
   "nbconvert_exporter": "python",
   "pygments_lexer": "ipython3",
   "version": "3.8.5"
  }
 },
 "nbformat": 4,
 "nbformat_minor": 1
}
